{
 "cells": [
  {
   "cell_type": "markdown",
   "id": "327d3364-1338-4a39-b3ee-b750bd4e9953",
   "metadata": {},
   "source": [
    "NumPy is used to handle n-dimensional array and performing numerical computations on them.\n",
    "\n",
    "For example, say we want to do matrix multiplication for large matrices. NumPy is optimized for such operations to do the computations efficiently."
   ]
  },
  {
   "cell_type": "code",
   "execution_count": 2,
   "id": "79f22b31-83af-4f15-a6f1-fb31a54adc34",
   "metadata": {},
   "outputs": [],
   "source": [
    "import numpy as np\n",
    "from numpy import random as rd"
   ]
  },
  {
   "cell_type": "code",
   "execution_count": 4,
   "id": "28d0f1d8-93b7-4bae-89b6-e52d271c63bd",
   "metadata": {},
   "outputs": [
    {
     "data": {
      "text/plain": [
       "514"
      ]
     },
     "execution_count": 4,
     "metadata": {},
     "output_type": "execute_result"
    }
   ],
   "source": [
    "x1 = rd.randint(100, 1000)\n",
    "x1"
   ]
  },
  {
   "cell_type": "markdown",
   "id": "4da66b6a-2ad3-4f0f-92a0-5b524b0a1e9c",
   "metadata": {},
   "source": [
    "Let's say we want to create random arrays in particular shapes and size."
   ]
  },
  {
   "cell_type": "code",
   "execution_count": 6,
   "id": "554fd418-4412-43dc-b7da-f02271ec00fe",
   "metadata": {},
   "outputs": [
    {
     "data": {
      "text/plain": [
       "array([766, 658, 264, 751, 320, 548, 406, 916, 658, 752])"
      ]
     },
     "execution_count": 6,
     "metadata": {},
     "output_type": "execute_result"
    }
   ],
   "source": [
    "x1 = rd.randint(100, 1000, size = 10)\n",
    "x1"
   ]
  },
  {
   "cell_type": "markdown",
   "id": "e5355889-6f9c-4331-a8fd-104a91b52d50",
   "metadata": {},
   "source": [
    "We can check the shape of this array as well."
   ]
  },
  {
   "cell_type": "code",
   "execution_count": 8,
   "id": "cf06824a-c1ba-433e-8c69-e78c4d838abf",
   "metadata": {},
   "outputs": [
    {
     "data": {
      "text/plain": [
       "(10,)"
      ]
     },
     "execution_count": 8,
     "metadata": {},
     "output_type": "execute_result"
    }
   ],
   "source": [
    "x1.shape"
   ]
  },
  {
   "cell_type": "markdown",
   "id": "763158d3-d03f-4127-8ba4-ee07dfd915bf",
   "metadata": {},
   "source": [
    "We can reshape this array as well."
   ]
  },
  {
   "cell_type": "code",
   "execution_count": 10,
   "id": "6d961d88-502b-4cee-99f5-758b7137be4e",
   "metadata": {},
   "outputs": [
    {
     "data": {
      "text/plain": [
       "(1, 10)"
      ]
     },
     "execution_count": 10,
     "metadata": {},
     "output_type": "execute_result"
    }
   ],
   "source": [
    "x1 = x1.reshape(1, 10)\n",
    "x1.shape"
   ]
  },
  {
   "cell_type": "markdown",
   "id": "51c93427-0dc1-4aa6-960b-697a1c060387",
   "metadata": {},
   "source": [
    "We can create multi-dimensional arrays as well."
   ]
  },
  {
   "cell_type": "code",
   "execution_count": 12,
   "id": "cc150785-ba2e-4d81-a408-80ee4c9ce25b",
   "metadata": {},
   "outputs": [
    {
     "data": {
      "text/plain": [
       "array([[250, 925, 941, 368],\n",
       "       [406, 397, 261, 545],\n",
       "       [861, 651, 325, 273]])"
      ]
     },
     "execution_count": 12,
     "metadata": {},
     "output_type": "execute_result"
    }
   ],
   "source": [
    "x2 = rd.randint(100, 1000, size = (3,4))\n",
    "x2"
   ]
  },
  {
   "cell_type": "code",
   "execution_count": 14,
   "id": "5e5e649b-59eb-4ddd-9983-873f5ff751ce",
   "metadata": {},
   "outputs": [
    {
     "data": {
      "text/plain": [
       "array([[[111, 821, 928, 148],\n",
       "        [450, 772, 616, 258],\n",
       "        [792, 869, 257, 377]],\n",
       "\n",
       "       [[875, 120, 235, 684],\n",
       "        [426, 916, 163, 114],\n",
       "        [482, 226, 830, 858]],\n",
       "\n",
       "       [[280, 418, 415, 296],\n",
       "        [436, 277, 374, 690],\n",
       "        [510, 390, 241, 895]],\n",
       "\n",
       "       [[650, 439, 618, 877],\n",
       "        [401, 377, 495, 979],\n",
       "        [851, 338, 369, 171]]])"
      ]
     },
     "execution_count": 14,
     "metadata": {},
     "output_type": "execute_result"
    }
   ],
   "source": [
    "x3 = rd.randint(100, 1000, size = (4,3,4))\n",
    "x3"
   ]
  },
  {
   "cell_type": "markdown",
   "id": "0ba91af9-a249-4c97-acb5-b1a566cc14db",
   "metadata": {},
   "source": [
    "We can reshape arrays to any shape while making sure that the product of dimensions remain same."
   ]
  },
  {
   "cell_type": "code",
   "execution_count": 16,
   "id": "8401f6cd-d368-431a-82bd-5d582828169b",
   "metadata": {},
   "outputs": [
    {
     "data": {
      "text/plain": [
       "array([[111, 821, 928, 148],\n",
       "       [450, 772, 616, 258],\n",
       "       [792, 869, 257, 377],\n",
       "       [875, 120, 235, 684],\n",
       "       [426, 916, 163, 114],\n",
       "       [482, 226, 830, 858],\n",
       "       [280, 418, 415, 296],\n",
       "       [436, 277, 374, 690],\n",
       "       [510, 390, 241, 895],\n",
       "       [650, 439, 618, 877],\n",
       "       [401, 377, 495, 979],\n",
       "       [851, 338, 369, 171]])"
      ]
     },
     "execution_count": 16,
     "metadata": {},
     "output_type": "execute_result"
    }
   ],
   "source": [
    "x3.reshape(12,4)"
   ]
  },
  {
   "cell_type": "markdown",
   "id": "b562567f-3ee4-405f-8249-79b5513d5a15",
   "metadata": {},
   "source": [
    "# Indexing\n",
    "Let's say we want to access all the elements in the array or the givend data. We can use indexing to do that."
   ]
  },
  {
   "cell_type": "code",
   "execution_count": 19,
   "id": "0b5f463e-b6ae-4703-9654-26b7c54e0b51",
   "metadata": {},
   "outputs": [
    {
     "data": {
      "text/plain": [
       "array([[252, 881, 988, 708],\n",
       "       [589, 901, 391, 990],\n",
       "       [672, 370, 639, 351],\n",
       "       [966, 817, 357, 225],\n",
       "       [748, 802, 876, 533]])"
      ]
     },
     "execution_count": 19,
     "metadata": {},
     "output_type": "execute_result"
    }
   ],
   "source": [
    "x4 = rd.randint(100, 1000, size = (5,4))\n",
    "x4"
   ]
  },
  {
   "cell_type": "code",
   "execution_count": 21,
   "id": "74cb6509-284e-45f8-9f88-c424fcd4e999",
   "metadata": {},
   "outputs": [
    {
     "data": {
      "text/plain": [
       "array([252, 881, 988, 708])"
      ]
     },
     "execution_count": 21,
     "metadata": {},
     "output_type": "execute_result"
    }
   ],
   "source": [
    "# To access row 1\n",
    "x4[0]"
   ]
  },
  {
   "cell_type": "code",
   "execution_count": 23,
   "id": "6d030459-01e2-4edd-9a66-357db6f6745d",
   "metadata": {},
   "outputs": [
    {
     "data": {
      "text/plain": [
       "array([[252, 881, 988, 708],\n",
       "       [589, 901, 391, 990]])"
      ]
     },
     "execution_count": 23,
     "metadata": {},
     "output_type": "execute_result"
    }
   ],
   "source": [
    "# To access first 2 rows\n",
    "x4[0:2]"
   ]
  },
  {
   "cell_type": "code",
   "execution_count": 25,
   "id": "9790d14a-289f-49d1-acae-eb052fb2e64f",
   "metadata": {},
   "outputs": [
    {
     "data": {
      "text/plain": [
       "array([[252, 881, 988, 708],\n",
       "       [589, 901, 391, 990],\n",
       "       [672, 370, 639, 351],\n",
       "       [966, 817, 357, 225],\n",
       "       [748, 802, 876, 533]])"
      ]
     },
     "execution_count": 25,
     "metadata": {},
     "output_type": "execute_result"
    }
   ],
   "source": [
    "# To access all rows in the NumPy array\n",
    "x4[:]"
   ]
  },
  {
   "cell_type": "code",
   "execution_count": 27,
   "id": "9a199fbc-ab96-4331-9486-bc43c712e5b2",
   "metadata": {},
   "outputs": [
    {
     "data": {
      "text/plain": [
       "array([[252, 881, 988, 708],\n",
       "       [672, 370, 639, 351],\n",
       "       [748, 802, 876, 533]])"
      ]
     },
     "execution_count": 27,
     "metadata": {},
     "output_type": "execute_result"
    }
   ],
   "source": [
    "# Steps or Jumps\n",
    "x4[::2]"
   ]
  },
  {
   "cell_type": "code",
   "execution_count": 29,
   "id": "562fa93b-53ff-477a-9f24-c9fc9e2bf4bb",
   "metadata": {},
   "outputs": [
    {
     "data": {
      "text/plain": [
       "array([252, 589, 672, 966, 748])"
      ]
     },
     "execution_count": 29,
     "metadata": {},
     "output_type": "execute_result"
    }
   ],
   "source": [
    "# To access all rows and the first column of each row\n",
    "x4[:, 0]"
   ]
  },
  {
   "cell_type": "code",
   "execution_count": 31,
   "id": "2a794253-bf05-443e-9bc8-c190afbbfec9",
   "metadata": {},
   "outputs": [
    {
     "data": {
      "text/plain": [
       "array([[252, 881],\n",
       "       [589, 901],\n",
       "       [672, 370],\n",
       "       [966, 817],\n",
       "       [748, 802]])"
      ]
     },
     "execution_count": 31,
     "metadata": {},
     "output_type": "execute_result"
    }
   ],
   "source": [
    "# Accessing all rows and first two columns\n",
    "x4[:, 0:2]"
   ]
  },
  {
   "cell_type": "markdown",
   "id": "a42b9319-4eeb-4888-9d33-0bec346150ab",
   "metadata": {},
   "source": [
    "## Range Function in NumPy\n",
    "\n",
    "We can create NumPy arrays using range functions as well.\n",
    "\n",
    "arange() functions creates an arrays of numbers"
   ]
  },
  {
   "cell_type": "code",
   "execution_count": 36,
   "id": "79f60ca0-b3cd-41fc-88e5-b805438c1ee9",
   "metadata": {},
   "outputs": [
    {
     "data": {
      "text/plain": [
       "array([0, 1, 2, 3, 4, 5, 6, 7, 8, 9])"
      ]
     },
     "execution_count": 36,
     "metadata": {},
     "output_type": "execute_result"
    }
   ],
   "source": [
    "np.arange(0, 10)"
   ]
  },
  {
   "cell_type": "code",
   "execution_count": 38,
   "id": "e80ae655-0987-40ae-a1de-42736781f20b",
   "metadata": {},
   "outputs": [
    {
     "data": {
      "text/plain": [
       "array([0, 2, 4, 6, 8])"
      ]
     },
     "execution_count": 38,
     "metadata": {},
     "output_type": "execute_result"
    }
   ],
   "source": [
    "np.arange(0, 10, 2)"
   ]
  },
  {
   "cell_type": "code",
   "execution_count": 43,
   "id": "a43d066a-7e3b-4291-950a-af1337cc276f",
   "metadata": {},
   "outputs": [
    {
     "data": {
      "text/plain": [
       "array([10, 11, 12, 13, 14, 15, 16, 17, 18, 19, 20, 21])"
      ]
     },
     "execution_count": 43,
     "metadata": {},
     "output_type": "execute_result"
    }
   ],
   "source": [
    "a1 = np.arange(10, 22)\n",
    "a1"
   ]
  },
  {
   "cell_type": "code",
   "execution_count": 46,
   "id": "352c1b86-d929-457c-a441-4976164c80f9",
   "metadata": {},
   "outputs": [
    {
     "data": {
      "text/plain": [
       "(12,)"
      ]
     },
     "execution_count": 46,
     "metadata": {},
     "output_type": "execute_result"
    }
   ],
   "source": [
    "a1.shape"
   ]
  },
  {
   "cell_type": "code",
   "execution_count": 50,
   "id": "6e3fdf52-f1d2-49ff-aafe-d1328f749c0f",
   "metadata": {},
   "outputs": [
    {
     "data": {
      "text/plain": [
       "array([[10, 11],\n",
       "       [12, 13],\n",
       "       [14, 15],\n",
       "       [16, 17],\n",
       "       [18, 19],\n",
       "       [20, 21]])"
      ]
     },
     "execution_count": 50,
     "metadata": {},
     "output_type": "execute_result"
    }
   ],
   "source": [
    "a1 = a1.reshape(6,2)\n",
    "a1"
   ]
  },
  {
   "cell_type": "code",
   "execution_count": 52,
   "id": "b1880e88-6a30-4677-a912-bfedb8d4e142",
   "metadata": {},
   "outputs": [
    {
     "data": {
      "text/plain": [
       "array([[10, 11, 12, 13],\n",
       "       [14, 15, 16, 17],\n",
       "       [18, 19, 20, 21]])"
      ]
     },
     "execution_count": 52,
     "metadata": {},
     "output_type": "execute_result"
    }
   ],
   "source": [
    "a1.reshape(3,4)"
   ]
  },
  {
   "cell_type": "code",
   "execution_count": 56,
   "id": "d01e160a-4969-4957-a9b7-044590b46967",
   "metadata": {},
   "outputs": [
    {
     "data": {
      "text/plain": [
       "array([[0., 0., 0.],\n",
       "       [0., 0., 0.]])"
      ]
     },
     "execution_count": 56,
     "metadata": {},
     "output_type": "execute_result"
    }
   ],
   "source": [
    "# To create an array of Zeros\n",
    "a2 = np.zeros((2,3))\n",
    "a2"
   ]
  },
  {
   "cell_type": "markdown",
   "id": "c6b4748d-4599-4703-bd6d-c5b394ed076f",
   "metadata": {},
   "source": [
    "By default, NumPy will have floating type of values in the array.\n",
    "However, we can have integer type of values in the array as well by mentioning the data type as 'int'."
   ]
  },
  {
   "cell_type": "code",
   "execution_count": 61,
   "id": "a131bc93-20e8-4517-878e-3fad00d5869b",
   "metadata": {},
   "outputs": [
    {
     "data": {
      "text/plain": [
       "array([[0, 0, 0],\n",
       "       [0, 0, 0]])"
      ]
     },
     "execution_count": 61,
     "metadata": {},
     "output_type": "execute_result"
    }
   ],
   "source": [
    "a3 = np.zeros((2,3), dtype = 'int')\n",
    "a3"
   ]
  },
  {
   "cell_type": "code",
   "execution_count": 65,
   "id": "cdb05e4d-42cc-44e8-a298-5504c6921cce",
   "metadata": {},
   "outputs": [
    {
     "data": {
      "text/plain": [
       "array([[1., 1., 1.],\n",
       "       [1., 1., 1.]])"
      ]
     },
     "execution_count": 65,
     "metadata": {},
     "output_type": "execute_result"
    }
   ],
   "source": [
    "b = np.ones((2,3))\n",
    "b"
   ]
  },
  {
   "cell_type": "code",
   "execution_count": 73,
   "id": "26c842bb-12dc-4938-a696-ead591554be9",
   "metadata": {},
   "outputs": [
    {
     "data": {
      "text/plain": [
       "array([[1., 0., 0.],\n",
       "       [0., 1., 0.],\n",
       "       [0., 0., 1.]])"
      ]
     },
     "execution_count": 73,
     "metadata": {},
     "output_type": "execute_result"
    }
   ],
   "source": [
    "# Identity matrix\n",
    "c = np.eye(3)\n",
    "c"
   ]
  },
  {
   "cell_type": "markdown",
   "id": "a2c50b5f-1838-4a00-a950-e0af2c21b700",
   "metadata": {},
   "source": [
    "We can create an array with certain number of partitions between two numbers using linspace() function."
   ]
  },
  {
   "cell_type": "code",
   "execution_count": 78,
   "id": "52180524-bbb9-4013-802d-382ac5329b36",
   "metadata": {},
   "outputs": [
    {
     "data": {
      "text/plain": [
       "array([ 0. ,  2.5,  5. ,  7.5, 10. ])"
      ]
     },
     "execution_count": 78,
     "metadata": {},
     "output_type": "execute_result"
    }
   ],
   "source": [
    "ls1 = np.linspace(0, 10, num = 5)\n",
    "ls1"
   ]
  },
  {
   "cell_type": "code",
   "execution_count": 80,
   "id": "5e2d9062-dce9-49fc-9da5-9838d3819903",
   "metadata": {},
   "outputs": [
    {
     "data": {
      "text/plain": [
       "array([  0.,  10.,  20.,  30.,  40.,  50.,  60.,  70.,  80.,  90., 100.])"
      ]
     },
     "execution_count": 80,
     "metadata": {},
     "output_type": "execute_result"
    }
   ],
   "source": [
    "ls2 = np.linspace(0, 100, 11)\n",
    "ls2"
   ]
  },
  {
   "cell_type": "code",
   "execution_count": 82,
   "id": "454dc2f0-29c8-4d55-a21e-6d0a0f88f3e4",
   "metadata": {},
   "outputs": [
    {
     "data": {
      "text/plain": [
       "array([54, 20, 46, 70, 66, 97, 11, 68, 89, 11])"
      ]
     },
     "execution_count": 82,
     "metadata": {},
     "output_type": "execute_result"
    }
   ],
   "source": [
    "a1 = np.random.randint(0, 100, size = 10)\n",
    "a1"
   ]
  },
  {
   "cell_type": "code",
   "execution_count": 84,
   "id": "b710be24-8936-40c7-b86c-880e24eaad09",
   "metadata": {},
   "outputs": [
    {
     "data": {
      "text/plain": [
       "97"
      ]
     },
     "execution_count": 84,
     "metadata": {},
     "output_type": "execute_result"
    }
   ],
   "source": [
    "np.max(a1)"
   ]
  },
  {
   "cell_type": "code",
   "execution_count": 86,
   "id": "4f4d65c0-848b-4ede-97ac-45581ff052a7",
   "metadata": {},
   "outputs": [
    {
     "data": {
      "text/plain": [
       "11"
      ]
     },
     "execution_count": 86,
     "metadata": {},
     "output_type": "execute_result"
    }
   ],
   "source": [
    "np.min(a1)"
   ]
  },
  {
   "cell_type": "code",
   "execution_count": 88,
   "id": "ca2cf709-5f87-4370-90e3-700c20637fe1",
   "metadata": {},
   "outputs": [
    {
     "data": {
      "text/plain": [
       "53.2"
      ]
     },
     "execution_count": 88,
     "metadata": {},
     "output_type": "execute_result"
    }
   ],
   "source": [
    "np.mean(a1)"
   ]
  },
  {
   "cell_type": "code",
   "execution_count": 90,
   "id": "2f9fa0c5-2342-42a2-8ee1-ba2a4a21e422",
   "metadata": {},
   "outputs": [
    {
     "data": {
      "text/plain": [
       "29.294368059406914"
      ]
     },
     "execution_count": 90,
     "metadata": {},
     "output_type": "execute_result"
    }
   ],
   "source": [
    "np.std(a1)"
   ]
  },
  {
   "cell_type": "code",
   "execution_count": 92,
   "id": "63d67ebd-dd64-41d4-b391-6ab9818f4a72",
   "metadata": {},
   "outputs": [
    {
     "data": {
      "text/plain": [
       "array([1., 1.])"
      ]
     },
     "execution_count": 92,
     "metadata": {},
     "output_type": "execute_result"
    }
   ],
   "source": [
    "np.floor([1.2, 1.6])"
   ]
  },
  {
   "cell_type": "code",
   "execution_count": 94,
   "id": "ef4567a6-fb63-45ef-9bd6-a1cc20920d1c",
   "metadata": {},
   "outputs": [
    {
     "data": {
      "text/plain": [
       "array([2., 2.])"
      ]
     },
     "execution_count": 94,
     "metadata": {},
     "output_type": "execute_result"
    }
   ],
   "source": [
    "np.ceil([1.2, 1.6])"
   ]
  },
  {
   "cell_type": "code",
   "execution_count": 96,
   "id": "04086b55-e1c7-483a-ac22-145a24debe0a",
   "metadata": {},
   "outputs": [
    {
     "data": {
      "text/plain": [
       "array([1., 1.])"
      ]
     },
     "execution_count": 96,
     "metadata": {},
     "output_type": "execute_result"
    }
   ],
   "source": [
    "np.trunc([1.2, 1.6])"
   ]
  },
  {
   "cell_type": "code",
   "execution_count": 98,
   "id": "16e83157-217e-4537-9195-4cddf0a7d78f",
   "metadata": {},
   "outputs": [
    {
     "data": {
      "text/plain": [
       "array([1., 2.])"
      ]
     },
     "execution_count": 98,
     "metadata": {},
     "output_type": "execute_result"
    }
   ],
   "source": [
    "np.round([1.2, 1.6])"
   ]
  },
  {
   "cell_type": "code",
   "execution_count": 100,
   "id": "8b9e158f-6f52-4faa-bd61-c687487a89e7",
   "metadata": {},
   "outputs": [
    {
     "data": {
      "text/plain": [
       "array([1.33])"
      ]
     },
     "execution_count": 100,
     "metadata": {},
     "output_type": "execute_result"
    }
   ],
   "source": [
    "np.round([1.33453], 2)"
   ]
  },
  {
   "cell_type": "markdown",
   "id": "1f32bcdd-c721-4527-8290-c5a4240888b2",
   "metadata": {},
   "source": [
    "## Concatenating the Matrices"
   ]
  },
  {
   "cell_type": "code",
   "execution_count": 103,
   "id": "09aaa63e-9a2a-492b-9c0d-0742eda7fb4d",
   "metadata": {},
   "outputs": [],
   "source": [
    "n1 = rd.randint(10, 20, size = (4,3))\n",
    "n2 = rd.randint(10, 20, size = (4,3))"
   ]
  },
  {
   "cell_type": "code",
   "execution_count": 105,
   "id": "a0d337ec-ab8d-4f94-aea7-d0eb983b8b0e",
   "metadata": {},
   "outputs": [
    {
     "data": {
      "text/plain": [
       "array([[14, 10, 15],\n",
       "       [14, 19, 12],\n",
       "       [17, 19, 14],\n",
       "       [11, 12, 19],\n",
       "       [13, 17, 12],\n",
       "       [13, 11, 17],\n",
       "       [18, 12, 15],\n",
       "       [15, 18, 18]])"
      ]
     },
     "execution_count": 105,
     "metadata": {},
     "output_type": "execute_result"
    }
   ],
   "source": [
    "# Concatenating along the rows\n",
    "np.concatenate([n1, n2])"
   ]
  },
  {
   "cell_type": "code",
   "execution_count": 107,
   "id": "bbe1fcc2-8818-4d72-ac1a-3f1d584135e4",
   "metadata": {},
   "outputs": [
    {
     "data": {
      "text/plain": [
       "array([[14, 10, 15, 13, 17, 12],\n",
       "       [14, 19, 12, 13, 11, 17],\n",
       "       [17, 19, 14, 18, 12, 15],\n",
       "       [11, 12, 19, 15, 18, 18]])"
      ]
     },
     "execution_count": 107,
     "metadata": {},
     "output_type": "execute_result"
    }
   ],
   "source": [
    "# Concatenating along the columns\n",
    "np.concatenate([n1, n2], axis = 1)"
   ]
  },
  {
   "cell_type": "markdown",
   "id": "2b1d6fa5-ec69-4177-9c96-481abbcd0f00",
   "metadata": {},
   "source": [
    "We can also use functions vstack() and hstack() to achieve the same results."
   ]
  },
  {
   "cell_type": "code",
   "execution_count": 112,
   "id": "8675e00f-79ec-44e1-b5ad-5e5332b21a5f",
   "metadata": {},
   "outputs": [
    {
     "data": {
      "text/plain": [
       "array([[14, 10, 15],\n",
       "       [14, 19, 12],\n",
       "       [17, 19, 14],\n",
       "       [11, 12, 19],\n",
       "       [13, 17, 12],\n",
       "       [13, 11, 17],\n",
       "       [18, 12, 15],\n",
       "       [15, 18, 18]])"
      ]
     },
     "execution_count": 112,
     "metadata": {},
     "output_type": "execute_result"
    }
   ],
   "source": [
    "n3 = np.vstack([n1, n2])\n",
    "n3"
   ]
  },
  {
   "cell_type": "code",
   "execution_count": 114,
   "id": "05b886bd-b2ee-43b0-82e7-3d874740d3db",
   "metadata": {},
   "outputs": [
    {
     "data": {
      "text/plain": [
       "array([[14, 10, 15, 13, 17, 12],\n",
       "       [14, 19, 12, 13, 11, 17],\n",
       "       [17, 19, 14, 18, 12, 15],\n",
       "       [11, 12, 19, 15, 18, 18]])"
      ]
     },
     "execution_count": 114,
     "metadata": {},
     "output_type": "execute_result"
    }
   ],
   "source": [
    "n4 = np.hstack([n1, n2])\n",
    "n4"
   ]
  },
  {
   "cell_type": "markdown",
   "id": "20fb0f3d-6334-4646-a1f6-134424c79cfe",
   "metadata": {},
   "source": [
    "We can split an array into two parts along an axis. This can be useful to split the data into training and testing sets."
   ]
  },
  {
   "cell_type": "code",
   "execution_count": 120,
   "id": "ce4a0afb-844d-4101-95bb-5248f8c5f539",
   "metadata": {},
   "outputs": [
    {
     "data": {
      "text/plain": [
       "[array([[14, 10, 15],\n",
       "        [14, 19, 12],\n",
       "        [17, 19, 14],\n",
       "        [11, 12, 19]]),\n",
       " array([[13, 17, 12],\n",
       "        [13, 11, 17],\n",
       "        [18, 12, 15],\n",
       "        [15, 18, 18]])]"
      ]
     },
     "execution_count": 120,
     "metadata": {},
     "output_type": "execute_result"
    }
   ],
   "source": [
    "np.split(n3, 2, axis = 0)"
   ]
  },
  {
   "cell_type": "code",
   "execution_count": 122,
   "id": "b839a841-e456-42b4-bec8-a0be60698c3f",
   "metadata": {},
   "outputs": [
    {
     "data": {
      "text/plain": [
       "10"
      ]
     },
     "execution_count": 122,
     "metadata": {},
     "output_type": "execute_result"
    }
   ],
   "source": [
    "# Minimum value in whole array\n",
    "n4.min()"
   ]
  },
  {
   "cell_type": "code",
   "execution_count": 126,
   "id": "e448b94d-f1ff-4c11-9089-8fec35e2ed92",
   "metadata": {},
   "outputs": [
    {
     "data": {
      "text/plain": [
       "array([11, 10, 12, 13, 11, 12])"
      ]
     },
     "execution_count": 126,
     "metadata": {},
     "output_type": "execute_result"
    }
   ],
   "source": [
    "# Returns an array of Minimum value in every column\n",
    "n4.min(axis = 0)"
   ]
  },
  {
   "cell_type": "code",
   "execution_count": 130,
   "id": "569c0c4e-ec04-4d5e-aa71-45addc7e1e3b",
   "metadata": {},
   "outputs": [
    {
     "data": {
      "text/plain": [
       "array([10, 11, 12, 11])"
      ]
     },
     "execution_count": 130,
     "metadata": {},
     "output_type": "execute_result"
    }
   ],
   "source": [
    "# Returns an array of minimum value in every row\n",
    "n4.min(axis = 1)"
   ]
  },
  {
   "cell_type": "code",
   "execution_count": 136,
   "id": "8d8f3043-f794-4f5a-85c4-b8bf87c58b69",
   "metadata": {},
   "outputs": [
    {
     "data": {
      "text/plain": [
       "array([13.5, 13.5, 16. , 16.5])"
      ]
     },
     "execution_count": 136,
     "metadata": {},
     "output_type": "execute_result"
    }
   ],
   "source": [
    "np.median(n4, axis = 1)"
   ]
  },
  {
   "cell_type": "code",
   "execution_count": 138,
   "id": "b3474e52-16c4-46a2-8de9-ee654124a631",
   "metadata": {},
   "outputs": [
    {
     "data": {
      "text/plain": [
       "array([2.21735578, 2.80871659, 2.40947205, 3.09569594])"
      ]
     },
     "execution_count": 138,
     "metadata": {},
     "output_type": "execute_result"
    }
   ],
   "source": [
    "np.std(n4, axis = 1)"
   ]
  },
  {
   "cell_type": "code",
   "execution_count": 148,
   "id": "852900a2-880d-4e6c-b94b-6920bf40c20d",
   "metadata": {},
   "outputs": [
    {
     "data": {
      "text/plain": [
       "array([[False,  True, False, False, False, False],\n",
       "       [False, False, False, False, False, False],\n",
       "       [False, False, False, False, False, False],\n",
       "       [False, False, False, False, False, False]])"
      ]
     },
     "execution_count": 148,
     "metadata": {},
     "output_type": "execute_result"
    }
   ],
   "source": [
    "# Returns True where value is equal to 10\n",
    "np.equal(n4, 10)"
   ]
  },
  {
   "cell_type": "code",
   "execution_count": 150,
   "id": "ae1fe5bb-98c8-4cc1-9b32-5cfe1742484d",
   "metadata": {},
   "outputs": [
    {
     "data": {
      "text/plain": [
       "array([[ True,  True,  True,  True,  True,  True],\n",
       "       [ True,  True,  True,  True,  True,  True],\n",
       "       [ True,  True,  True,  True,  True,  True],\n",
       "       [ True,  True,  True,  True,  True,  True]])"
      ]
     },
     "execution_count": 150,
     "metadata": {},
     "output_type": "execute_result"
    }
   ],
   "source": [
    "np.greater_equal(n4, 10)"
   ]
  },
  {
   "cell_type": "code",
   "execution_count": 152,
   "id": "a7b99d5f-2c94-42f4-832e-b7621e3daa1a",
   "metadata": {},
   "outputs": [
    {
     "data": {
      "text/plain": [
       "array([[False,  True, False, False, False, False],\n",
       "       [False, False, False, False, False, False],\n",
       "       [False, False, False, False, False, False],\n",
       "       [False, False, False, False, False, False]])"
      ]
     },
     "execution_count": 152,
     "metadata": {},
     "output_type": "execute_result"
    }
   ],
   "source": [
    "np.less_equal(n4, 10)"
   ]
  },
  {
   "cell_type": "code",
   "execution_count": 154,
   "id": "5a4c86c8-6bb4-46d1-b367-4b1f8de8d43d",
   "metadata": {},
   "outputs": [
    {
     "data": {
      "text/plain": [
       "array([[10, 12, 13, 14, 15, 17],\n",
       "       [11, 12, 13, 14, 17, 19],\n",
       "       [12, 14, 15, 17, 18, 19],\n",
       "       [11, 12, 15, 18, 18, 19]])"
      ]
     },
     "execution_count": 154,
     "metadata": {},
     "output_type": "execute_result"
    }
   ],
   "source": [
    "np.sort(n4)"
   ]
  }
 ],
 "metadata": {
  "kernelspec": {
   "display_name": "Python 3 (ipykernel)",
   "language": "python",
   "name": "python3"
  },
  "language_info": {
   "codemirror_mode": {
    "name": "ipython",
    "version": 3
   },
   "file_extension": ".py",
   "mimetype": "text/x-python",
   "name": "python",
   "nbconvert_exporter": "python",
   "pygments_lexer": "ipython3",
   "version": "3.12.7"
  }
 },
 "nbformat": 4,
 "nbformat_minor": 5
}
